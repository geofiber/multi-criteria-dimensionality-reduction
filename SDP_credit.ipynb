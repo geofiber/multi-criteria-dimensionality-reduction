{
 "cells": [
  {
   "cell_type": "code",
   "execution_count": null,
   "metadata": {},
   "outputs": [],
   "source": [
    "from preprocess_data import preprocess_credit\n",
    "df = preprocess_credit(\"data/credit/creditdata.csv\") # this method deals with all proprocessing\n",
    "dfCen=df-df.mean()\n",
    "\n",
    "from SDP import fairDimReductionFractional\n",
    "from utils import getObj"
   ]
  },
  {
   "cell_type": "code",
   "execution_count": null,
   "metadata": {},
   "outputs": [],
   "source": [
    "#let's try 3 groups, with three different objectives below\n",
    "df1 = df[df['EDUCATION']<3.3]\n",
    "df1 = df1-df1.mean()\n",
    "df2 = df[(df['EDUCATION']>=3.3) & (df['EDUCATION']<=3.8)]\n",
    "df2 = df2-df2.mean()\n",
    "df3 = df[df['EDUCATION']>3.8]\n",
    "df3 = df3-df3.mean()\n",
    "\n",
    "#put data into k=3 matrices. Data matrix A --> A^T A\n",
    "B1 = df1.values.T @ df1.values / len(df1)\n",
    "B2 = df2.values.T @ df2.values / len(df2)\n",
    "B3 = df3.values.T @ df3.values / len(df3)\n",
    "B = [B1,B2,B3]\n",
    "\n",
    "#note that n=23 is the original number of dimension, and k=3 is the number of groups\n",
    "n=23\n",
    "k=3\n",
    "\n",
    "#this is how one can run the SDP solver for fair PCA problem. More detail is in the documentation of the method\n",
    "runstats = fairDimReductionFractional(n,k,B,Obj='MM_Loss',savedPath='result_credit/k3maxminloss.csv')\n",
    "runstats = fairDimReductionFractional(n,k,B,Obj='MM_Var',savedPath='result_credit/k3maxminvar.csv')\n",
    "runstats = fairDimReductionFractional(n,k,B,Obj='NSW',savedPath='result_credit/k3NSW.csv')\n",
    "\n",
    "runstats #if you want to see what the result looks like here"
   ]
  },
  {
   "cell_type": "code",
   "execution_count": null,
   "metadata": {},
   "outputs": [],
   "source": [
    "#for 4 groups\n",
    "df1 = df[(df['EDUCATION']<3.3) & (df['SEX'] <= 2.5)]\n",
    "df1 = df1-df1.mean()\n",
    "df2 = df[(df['EDUCATION']>=3.3) & (df['SEX']<=2.5)]\n",
    "df2 = df2-df2.mean()\n",
    "df3 = df[(df['EDUCATION']<3.3) & (df['SEX'] > 2.5)]\n",
    "df3 = df3-df3.mean()\n",
    "df4 = df[(df['EDUCATION']>=3.3) & (df['SEX'] > 2.5)]\n",
    "df4 = df4-df4.mean()\n",
    "\n",
    "B1 = df1.values.T @ df1.values / len(df1)\n",
    "B2 = df2.values.T @ df2.values / len(df2)\n",
    "B3 = df3.values.T @ df3.values / len(df3)\n",
    "B4 = df4.values.T @ df4.values / len(df4)\n",
    "B = [B1,B2,B3,B4]\n",
    "\n",
    "n=23\n",
    "k=4\n",
    "\n",
    "runstats = fairDimReductionFractional(n,k,B,Obj='MM_Loss',savedPath='result_credit/k4_maxminloss.csv')\n",
    "runstats = fairDimReductionFractional(n,k,B,Obj='MM_Var',savedPath='result_credit/k4_maxminvar.csv')\n",
    "runstats = fairDimReductionFractional(n,k,B,Obj='NSW',savedPath='result_credit/k4_NSW.csv')"
   ]
  },
  {
   "cell_type": "code",
   "execution_count": null,
   "metadata": {},
   "outputs": [],
   "source": [
    "#for 6 groups\n",
    "df1 = df[(df['EDUCATION']<3.3) & (df['SEX'] <= 2.5)]\n",
    "df1 = df1-df1.mean()\n",
    "df2 = df[(df['EDUCATION']>=3.3) & (df['EDUCATION']<=3.8) & (df['SEX'] <= 2.5)]\n",
    "df2 = df2-df2.mean()\n",
    "df3 = df[(df['EDUCATION']>3.8) & (df['SEX'] <= 2.5)]\n",
    "df3 = df3-df3.mean()\n",
    "df4 = df[(df['EDUCATION']<3.3) & (df['SEX'] > 2.5)]\n",
    "df4 = df4-df4.mean()\n",
    "df5 = df[(df['EDUCATION']>=3.3) & (df['EDUCATION']<=3.8) & (df['SEX'] > 2.5)]\n",
    "df5 = df5-df5.mean()\n",
    "df6 = df[(df['EDUCATION']>3.8) & (df['SEX'] > 2.5)]\n",
    "df6 = df6-df6.mean()\n",
    "\n",
    "B1 = df1.values.T @ df1.values / len(df1)\n",
    "B2 = df2.values.T @ df2.values / len(df2)\n",
    "B3 = df3.values.T @ df3.values / len(df3)\n",
    "B4 = df4.values.T @ df4.values / len(df4)\n",
    "B5 = df5.values.T @ df5.values / len(df5)\n",
    "B6 = df6.values.T @ df6.values / len(df6)\n",
    "B = [B1,B2,B3,B4,B5,B6]\n",
    "\n",
    "n=23\n",
    "k=6\n",
    "\n",
    "runstats = fairDimReductionFractional(n,k,B,Obj='MM_Loss',savedPath='result_credit/k6maxminloss.csv')\n",
    "runstats = fairDimReductionFractional(n,k,B,Obj='MM_Var',savedPath='result_credit/k6maxminvar.csv')\n",
    "runstats = fairDimReductionFractional(n,k,B,Obj='NSW',savedPath='result_credit/k6NSW.csv')"
   ]
  },
  {
   "cell_type": "code",
   "execution_count": null,
   "metadata": {},
   "outputs": [],
   "source": []
  }
 ],
 "metadata": {
  "kernelspec": {
   "display_name": "Python 3",
   "language": "python",
   "name": "python3"
  },
  "language_info": {
   "codemirror_mode": {
    "name": "ipython",
    "version": 3
   },
   "file_extension": ".py",
   "mimetype": "text/x-python",
   "name": "python",
   "nbconvert_exporter": "python",
   "pygments_lexer": "ipython3",
   "version": "3.6.5"
  }
 },
 "nbformat": 4,
 "nbformat_minor": 2
}
