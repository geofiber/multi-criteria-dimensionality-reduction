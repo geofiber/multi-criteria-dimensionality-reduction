{
 "cells": [
  {
   "cell_type": "code",
   "execution_count": null,
   "metadata": {},
   "outputs": [],
   "source": [
    "import pandas as pd\n",
    "import numpy as np\n",
    "import math\n",
    "import timeit\n",
    "\n",
    "from numpy import array\n",
    "\n",
    "from preprocess_data import preprocess_credit, preprocess_income\n",
    "from MW import fairDimReduction_MW\n",
    "from utils import getObj\n",
    "\n",
    "df = preprocess_credit(\"data/credit/creditdata.csv\") # this method deals with all proprocessing and get one dataframe\n",
    "\n",
    "dfCen=df-df.mean()"
   ]
  },
  {
   "cell_type": "code",
   "execution_count": null,
   "metadata": {},
   "outputs": [],
   "source": [
    "#let's try 3 groups, with objective being the loss \n",
    "df1 = df[df['EDUCATION']<3.3]\n",
    "df1 = df1-df1.mean()\n",
    "df2 = df[(df['EDUCATION']>=3.3) & (df['EDUCATION']<=3.8)]\n",
    "df2 = df2-df2.mean()\n",
    "df3 = df[df['EDUCATION']>3.8]\n",
    "df3 = df3-df3.mean()\n",
    "\n",
    "#put data into k=3 matrices. Data matrix A --> A^T A\n",
    "B1 = df1.values.T @ df1.values / len(df1)\n",
    "B2 = df2.values.T @ df2.values / len(df2)\n",
    "B3 = df3.values.T @ df3.values / len(df3)\n",
    "B = [B1,B2,B3]\n",
    "\n",
    "#example of how to call MW. This is on credit data with 3 groups\n",
    "k=3\n",
    "n=23\n",
    "d=5\n",
    "[X_last,X_avg,stats] = fairDimReduction_MW(n,k,d,B,eta=1, T=400, verbose = False,Obj='MM_Loss')\n",
    "stats"
   ]
  },
  {
   "cell_type": "code",
   "execution_count": null,
   "metadata": {
    "scrolled": true
   },
   "outputs": [],
   "source": [
    "#the example aobve shows that MW actually converges pretty quickly. In fact, eta can be tune so the last iterate converges quickly for most datasets and value of n,d.\n",
    "#But, not always... as an example below, \n",
    "\n",
    "#let's try 6 groups, with max min loss. This value of d we know MW last iterate cannot converge - we know from SDP solver\n",
    "k=6\n",
    "n=23\n",
    "d=7\n",
    "\n",
    "df1 = df[(df['EDUCATION']<3.3) & (df['SEX'] <= 2.5)]\n",
    "df1 = df1-df1.mean()\n",
    "df2 = df[(df['EDUCATION']>=3.3) & (df['EDUCATION']<=3.8) & (df['SEX'] <= 2.5)]\n",
    "df2 = df2-df2.mean()\n",
    "df3 = df[(df['EDUCATION']>3.8) & (df['SEX'] <= 2.5)]\n",
    "df3 = df3-df3.mean()\n",
    "df4 = df[(df['EDUCATION']<3.3) & (df['SEX'] > 2.5)]\n",
    "df4 = df4-df4.mean()\n",
    "df5 = df[(df['EDUCATION']>=3.3) & (df['EDUCATION']<=3.8) & (df['SEX'] > 2.5)]\n",
    "df5 = df5-df5.mean()\n",
    "df6 = df[(df['EDUCATION']>3.8) & (df['SEX'] > 2.5)]\n",
    "df6 = df6-df6.mean()\n",
    "\n",
    "B1 = df1.values.T @ df1.values / len(df1)\n",
    "B2 = df2.values.T @ df2.values / len(df2)\n",
    "B3 = df3.values.T @ df3.values / len(df3)\n",
    "B4 = df4.values.T @ df4.values / len(df4)\n",
    "B5 = df5.values.T @ df5.values / len(df5)\n",
    "B6 = df6.values.T @ df6.values / len(df6)\n",
    "B = [B1,B2,B3,B4,B5,B6]\n",
    "\n",
    "#use MW to solve fair PCA\n",
    "[X_last,X_avg,stats] = fairDimReduction_MW(n,k,d,B,eta=0.4, T=500, verbose = False,Obj='MM_Loss')\n",
    "stats"
   ]
  },
  {
   "cell_type": "code",
   "execution_count": null,
   "metadata": {},
   "outputs": [],
   "source": [
    "#another objective one can also try\n",
    "n=23; d=7; k=6\n",
    "[sol_X,sol_P,stats] = fairDimReduction_MW(n,k,d,B,eta=1, T=20, verbose = False,Obj='MM_Var')\n",
    "stats"
   ]
  },
  {
   "cell_type": "code",
   "execution_count": null,
   "metadata": {},
   "outputs": [],
   "source": [
    "#next, we can try the income data. First load the data\n",
    "df = preprocess_income('data/income') #this preprocessing so it returns a list of 5 dataframes.\n",
    "B = []\n",
    "k=5 #There are 5 groups\n",
    "for i in range(k): #data matrix format we need is A --> A^T A for method call later.\n",
    "    B.append(df[i].values.T @ df[i].values / len(df[i]))\n",
    "n=len(B[0]) #original dimension"
   ]
  },
  {
   "cell_type": "code",
   "execution_count": null,
   "metadata": {},
   "outputs": [],
   "source": [
    "#example usage of MW, on income data\n",
    "d=1\n",
    "[_,__,stats] = fairDimReduction_MW(n,k,d,B,eta=0.01, T=500, verbose = False,Obj='MM_Loss')\n",
    "stats"
   ]
  },
  {
   "cell_type": "code",
   "execution_count": null,
   "metadata": {},
   "outputs": [],
   "source": [
    "#in some cases we do not expect MW last iterate to converge, since even SDP is not exact. e.g. for d=2 we know this is the case\n",
    "d=2\n",
    "[_,X_avg,stats] = fairDimReduction_MW(n,k,d,B,eta=0.05, T=1000, verbose = False,Obj='MM_Loss')\n",
    "stats"
   ]
  },
  {
   "cell_type": "code",
   "execution_count": null,
   "metadata": {},
   "outputs": [],
   "source": [
    "#in an example above, it turns out I can't make eta too big, else the alternation of MW solution is strong and the convergence is slow.\n",
    "#so it seems that the income data requires about T=500 - 1000 iterations."
   ]
  },
  {
   "cell_type": "code",
   "execution_count": null,
   "metadata": {},
   "outputs": [],
   "source": []
  }
 ],
 "metadata": {
  "kernelspec": {
   "display_name": "Python 3",
   "language": "python",
   "name": "python3"
  },
  "language_info": {
   "codemirror_mode": {
    "name": "ipython",
    "version": 3
   },
   "file_extension": ".py",
   "mimetype": "text/x-python",
   "name": "python",
   "nbconvert_exporter": "python",
   "pygments_lexer": "ipython3",
   "version": "3.6.5"
  }
 },
 "nbformat": 4,
 "nbformat_minor": 2
}
