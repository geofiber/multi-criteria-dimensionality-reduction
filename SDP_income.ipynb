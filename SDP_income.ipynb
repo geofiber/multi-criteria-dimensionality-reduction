{
 "cells": [
  {
   "cell_type": "code",
   "execution_count": null,
   "metadata": {},
   "outputs": [],
   "source": [
    "import pandas as pd\n",
    "\n",
    "from numpy import array\n",
    "from preprocess_data import preprocess_income\n",
    "from standard_PCA import std_PCA\n",
    "from SDP import fairDimReductionFractional"
   ]
  },
  {
   "cell_type": "code",
   "execution_count": null,
   "metadata": {},
   "outputs": [],
   "source": [
    "#load data. this is preprocessed already. It has 5 dataframes as 5 groups in a list\n",
    "df = preprocess_income('data/income')\n",
    "#put data into 5 matrices. Data matrix A --> A^T A\n",
    "B = []\n",
    "k=5 #There are 5 groups\n",
    "for i in range(k):\n",
    "    B.append(df[i].values.T @ df[i].values / len(df[i]))\n",
    "n=len(B[0]) #original dimension\n",
    "\n",
    "#all data, for vanilla PCA\n",
    "df_whole = pd.concat(df, ignore_index=True)\n",
    "B_whole = df_whole.values.T @ df_whole.values / len(df_whole)"
   ]
  },
  {
   "cell_type": "code",
   "execution_count": null,
   "metadata": {},
   "outputs": [],
   "source": [
    "#this is how one can run the SDP solver for fair PCA problem. More detail is in the documentation of the method\n",
    "runstats = fairDimReductionFractional(n,k,B,list_d=range(1,21),Obj='MM_Loss',savedPath='result_income/maxminloss.csv')"
   ]
  },
  {
   "cell_type": "code",
   "execution_count": null,
   "metadata": {},
   "outputs": [],
   "source": [
    "runstats = fairDimReductionFractional(n,k,B,list_d=range(1,21),Obj='MM_Var',savedPath='result_income/maxminvar.csv')"
   ]
  },
  {
   "cell_type": "code",
   "execution_count": null,
   "metadata": {},
   "outputs": [],
   "source": [
    "runstats = fairDimReductionFractional(n,k,B,list_d=range(1,21),Obj='NSW',savedPath='result_income/NSW.csv')"
   ]
  }
 ],
 "metadata": {
  "kernelspec": {
   "display_name": "Python 3",
   "language": "python",
   "name": "python3"
  },
  "language_info": {
   "codemirror_mode": {
    "name": "ipython",
    "version": 3
   },
   "file_extension": ".py",
   "mimetype": "text/x-python",
   "name": "python",
   "nbconvert_exporter": "python",
   "pygments_lexer": "ipython3",
   "version": "3.6.5"
  }
 },
 "nbformat": 4,
 "nbformat_minor": 2
}
