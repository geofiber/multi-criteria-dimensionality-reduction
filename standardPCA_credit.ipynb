{
 "cells": [
  {
   "cell_type": "code",
   "execution_count": null,
   "metadata": {},
   "outputs": [],
   "source": [
    "import pandas as pd\n",
    "from preprocess_data import preprocess_credit\n",
    "\n",
    "from SDP import fairDimReductionFractional\n",
    "from standard_PCA import std_PCA\n",
    "from utils import getObj\n",
    "\n",
    "df = preprocess_credit(\"data/credit/creditdata.csv\") # this method deals with all proprocessing\n",
    "dfCen=df-df.mean()\n",
    "\n",
    "#Data matrix A --> A^T A\n",
    "B_whole = dfCen.values.T @ dfCen.values / len(dfCen)\n",
    "n=len(B_whole[0]) #original dimension"
   ]
  },
  {
   "cell_type": "code",
   "execution_count": null,
   "metadata": {},
   "outputs": [],
   "source": [
    "#precompute solution for standard PCA\n",
    "P_all = std_PCA(B_whole,n) #this gets all the eigenvectors as sorted order as columns\n",
    "X_van=[]\n",
    "for d in range(0,n):\n",
    "    X_van.append(P_all[:,:d] @ P_all[:,:d].T) #top d eigenvectors are solutions to standard PCA\n",
    "#after this, X_van[d] is PCA solution as n x n matrix for target dimension d."
   ]
  },
  {
   "cell_type": "code",
   "execution_count": null,
   "metadata": {},
   "outputs": [],
   "source": [
    "#let's try 6 groups, with vanilla PCA\n",
    "df1 = df[(df['EDUCATION']<3.3) & (df['SEX'] <= 2.5)]\n",
    "df1 = df1-df1.mean()\n",
    "df2 = df[(df['EDUCATION']>=3.3) & (df['EDUCATION']<=3.8) & (df['SEX'] <= 2.5)]\n",
    "df2 = df2-df2.mean()\n",
    "df3 = df[(df['EDUCATION']>3.8) & (df['SEX'] <= 2.5)]\n",
    "df3 = df3-df3.mean()\n",
    "df4 = df[(df['EDUCATION']<3.3) & (df['SEX'] > 2.5)]\n",
    "df4 = df4-df4.mean()\n",
    "df5 = df[(df['EDUCATION']>=3.3) & (df['EDUCATION']<=3.8) & (df['SEX'] > 2.5)]\n",
    "df5 = df5-df5.mean()\n",
    "df6 = df[(df['EDUCATION']>3.8) & (df['SEX'] > 2.5)]\n",
    "df6 = df6-df6.mean()\n",
    "\n",
    "#Data matrix A --> A^T A\n",
    "B1 = df1.values.T @ df1.values / len(df1)\n",
    "B2 = df2.values.T @ df2.values / len(df2)\n",
    "B3 = df3.values.T @ df3.values / len(df3)\n",
    "B4 = df4.values.T @ df4.values / len(df4)\n",
    "B5 = df5.values.T @ df5.values / len(df5)\n",
    "B6 = df6.values.T @ df6.values / len(df6)\n",
    "B = [B1,B2,B3,B4,B5,B6]\n",
    "\n",
    "k=6 #6 groups\n",
    "van_stats = pd.DataFrame() #holder for the results of the run\n",
    "final_target = 20 #do PCA up to how many dimensions? let's say 20\n",
    "for d in range(1,final_target):\n",
    "    obj_dim_d = getObj(n,k,d,B,X_van[d]) #this returns the objective for all groups as a dictionary. Objectives are described more in method documentation\n",
    "    obj_dim_d.update({'d':d})\n",
    "    van_stats = van_stats.append(pd.DataFrame(obj_dim_d,index=[d])) #add this info\n",
    "    \n",
    "# van_stats.to_csv('result_credit/k6vanillaObj.csv',index=False) #if you want to save the result\n",
    "van_stats #if you want to see what it is like"
   ]
  },
  {
   "cell_type": "code",
   "execution_count": null,
   "metadata": {},
   "outputs": [],
   "source": [
    "#let's try 4 groups, with vanilla PCA\n",
    "df1 = df[(df['EDUCATION']<3.3) & (df['SEX'] <= 2.5)]\n",
    "df1 = df1-df1.mean()\n",
    "df2 = df[(df['EDUCATION']>=3.3) & (df['SEX']<=2.5)]\n",
    "df2 = df2-df2.mean()\n",
    "df3 = df[(df['EDUCATION']<3.3) & (df['SEX'] > 2.5)]\n",
    "df3 = df3-df3.mean()\n",
    "df4 = df[(df['EDUCATION']>=3.3) & (df['SEX'] > 2.5)]\n",
    "df4 = df4-df4.mean()\n",
    "\n",
    "B1 = df1.values.T @ df1.values / len(df1)\n",
    "B2 = df2.values.T @ df2.values / len(df2)\n",
    "B3 = df3.values.T @ df3.values / len(df3)\n",
    "B4 = df4.values.T @ df4.values / len(df4)\n",
    "B = [B1,B2,B3,B4]\n",
    "\n",
    "k=4\n",
    "van_stats = pd.DataFrame();\n",
    "for d in range(1,n):\n",
    "    obj_dim_d = getObj(n,k,d,B,X_van[d])\n",
    "    obj_dim_d.update({'d':d})\n",
    "    van_stats = van_stats.append(pd.DataFrame(obj_dim_d,index=[d])) #add this info\n",
    "    \n",
    "#van_stats.to_csv('result_credit/k4vanillaObj.csv',index=False) #if you want to save the result\n",
    "van_stats #if you want to see what it is like"
   ]
  },
  {
   "cell_type": "code",
   "execution_count": null,
   "metadata": {
    "scrolled": true
   },
   "outputs": [],
   "source": [
    "#let's try 3 groups, with vanilla PCA\n",
    "df1 = df[df['EDUCATION']<3.3]\n",
    "df1 = df1-df1.mean()\n",
    "df2 = df[(df['EDUCATION']>=3.3) & (df['EDUCATION']<=3.8)]\n",
    "df2 = df2-df2.mean()\n",
    "df3 = df[df['EDUCATION']>3.8]\n",
    "df3 = df3-df3.mean()\n",
    "\n",
    "B1 = df1.values.T @ df1.values / len(df1)\n",
    "B2 = df2.values.T @ df2.values / len(df2)\n",
    "B3 = df3.values.T @ df3.values / len(df3)\n",
    "B = [B1,B2,B3]\n",
    "\n",
    "k=3\n",
    "van_stats = pd.DataFrame();\n",
    "for d in range(1,n):\n",
    "    obj_dim_d = getObj(n,k,d,B,X_van[d])\n",
    "    obj_dim_d.update({'d':d})\n",
    "    van_stats = van_stats.append(pd.DataFrame(obj_dim_d,index=[d])) #add this info\n",
    "\n",
    "#van_stats.to_csv('result_credit/k3vanillaObj.csv',index=False) #if you want to save the result\n",
    "van_stats #if you want to see what it is like"
   ]
  },
  {
   "cell_type": "code",
   "execution_count": null,
   "metadata": {},
   "outputs": [],
   "source": []
  }
 ],
 "metadata": {
  "kernelspec": {
   "display_name": "Python 3",
   "language": "python",
   "name": "python3"
  },
  "language_info": {
   "codemirror_mode": {
    "name": "ipython",
    "version": 3
   },
   "file_extension": ".py",
   "mimetype": "text/x-python",
   "name": "python",
   "nbconvert_exporter": "python",
   "pygments_lexer": "ipython3",
   "version": "3.6.5"
  }
 },
 "nbformat": 4,
 "nbformat_minor": 2
}
