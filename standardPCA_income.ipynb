{
 "cells": [
  {
   "cell_type": "code",
   "execution_count": null,
   "metadata": {},
   "outputs": [],
   "source": [
    "import pandas as pd\n",
    "\n",
    "from numpy import array\n",
    "from preprocess_data import preprocess_income\n",
    "from standard_PCA import std_PCA\n",
    "from utils import getObj"
   ]
  },
  {
   "cell_type": "code",
   "execution_count": null,
   "metadata": {},
   "outputs": [],
   "source": [
    "#load data. this is preprocessed already as 5 pandas dataframe\n",
    "df = preprocess_income('data/income')\n",
    "\n",
    "#put data into 5 PSD matrices. Data matrix A --> A^T A\n",
    "B = []\n",
    "k=5 #There are 5 groups\n",
    "for i in range(k):\n",
    "    B.append(df[i].values.T @ df[i].values / len(df[i]))\n",
    "    \n",
    "n=len(B[0]) #original number of dimension\n",
    "\n",
    "#all data together, for vanilla PCA\n",
    "df_whole = pd.concat(df, ignore_index=True)\n",
    "B_whole = df_whole.values.T @ df_whole.values / len(df_whole)"
   ]
  },
  {
   "cell_type": "code",
   "execution_count": null,
   "metadata": {},
   "outputs": [],
   "source": [
    "#let's try vanilla PCA\n",
    "\n",
    "final_target = 20 #do PCA up to how many dimensions? let's say 20\n",
    "van_stats = pd.DataFrame() #holder for the results of the run\n",
    "P_all = std_PCA(B_whole,final_target+1) #this calculates all standard PCA projection matrix solution\n",
    "\n",
    "for d in range(1,final_target+1):\n",
    "    X_van = P_all[:,:d] @ P_all[:,:d].T #getting the n x n PSD projection matrix to match the format og getObj in the next line\n",
    "    obj_dim_d = getObj(n,k,d,B,X_van) #this returns the objective for all groups as a dictionary. Objectives are described more in method documentation\n",
    "    obj_dim_d.update({'d':d})\n",
    "    van_stats = van_stats.append(pd.DataFrame(obj_dim_d,index=[d])) #add this info\n",
    "    \n",
    "#van_stats.to_csv('result_income/vanillaObj.csv',index=False) #if you want to save the result\n",
    "van_stats #if you want to see what it is like"
   ]
  },
  {
   "cell_type": "code",
   "execution_count": null,
   "metadata": {},
   "outputs": [],
   "source": []
  }
 ],
 "metadata": {
  "kernelspec": {
   "display_name": "Python 3",
   "language": "python",
   "name": "python3"
  },
  "language_info": {
   "codemirror_mode": {
    "name": "ipython",
    "version": 3
   },
   "file_extension": ".py",
   "mimetype": "text/x-python",
   "name": "python",
   "nbconvert_exporter": "python",
   "pygments_lexer": "ipython3",
   "version": "3.6.5"
  }
 },
 "nbformat": 4,
 "nbformat_minor": 2
}
